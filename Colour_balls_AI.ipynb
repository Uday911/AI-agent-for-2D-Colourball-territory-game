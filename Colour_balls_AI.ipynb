{
 "cells": [
  {
   "cell_type": "code",
   "execution_count": 63,
   "metadata": {},
   "outputs": [
    {
     "name": "stdout",
     "output_type": "stream",
     "text": [
      "pygame 1.9.4\n",
      "Hello from the pygame community. https://www.pygame.org/contribute.html\n"
     ]
    }
   ],
   "source": [
    "import pygame\n",
    "import random\n",
    "import numpy as np"
   ]
  },
  {
   "cell_type": "code",
   "execution_count": 64,
   "metadata": {},
   "outputs": [
    {
     "data": {
      "text/plain": [
       "(6, 0)"
      ]
     },
     "execution_count": 64,
     "metadata": {},
     "output_type": "execute_result"
    }
   ],
   "source": [
    "pygame.init()"
   ]
  },
  {
   "cell_type": "code",
   "execution_count": 65,
   "metadata": {},
   "outputs": [],
   "source": [
    "pixell_array = 16777215"
   ]
  },
  {
   "cell_type": "code",
   "execution_count": 66,
   "metadata": {},
   "outputs": [],
   "source": [
    "import torch.nn as nn\n",
    "import torch.optim as optim\n",
    "import torch.nn.functional as F\n",
    "import torch\n",
    "from torch.autograd import variable"
   ]
  },
  {
   "cell_type": "code",
   "execution_count": 67,
   "metadata": {},
   "outputs": [],
   "source": [
    "input_size = 2\n",
    "output_size = 8"
   ]
  },
  {
   "cell_type": "code",
   "execution_count": 68,
   "metadata": {},
   "outputs": [],
   "source": [
    "class Net(nn.Module):\n",
    "    def __init__(self,input_channel,output_channel):\n",
    "        self.input_channel = input_channel\n",
    "        self.output_channel = output_channel\n",
    "        super(Net,self).__init__()\n",
    "        \n",
    "        self.conv1 = nn.Conv2d(input_channel,32,3,padding=0)\n",
    "        self.batch_norm1 = nn.BatchNorm2d(32)\n",
    "        self.relu1 = nn.ReLU()\n",
    "        \n",
    "        self.conv2 = nn.Conv2d(32,32,3,padding=0)\n",
    "        self.batch_norm2 = nn.BatchNorm2d(32)\n",
    "        self.relu2 = nn.ReLU()\n",
    "        \n",
    "        self.fc1 = nn.Linear(1229312,output_channel)\n",
    "        \n",
    "    def forward(self,x):\n",
    "        x = self.relu1(self.batch_norm1(self.conv1(x)))\n",
    "        x = self.relu2(self.batch_norm2(self.conv2(x)))\n",
    "        x = x.view(-1,1229312)\n",
    "        x = self.fc1(x)\n",
    "        return x"
   ]
  },
  {
   "cell_type": "code",
   "execution_count": 69,
   "metadata": {},
   "outputs": [],
   "source": [
    "net1 = Net(input_size,output_size)\n",
    "net2 = Net(input_size,output_size)\n",
    "sm = nn.Softmax(dim=1)"
   ]
  },
  {
   "cell_type": "code",
   "execution_count": 70,
   "metadata": {},
   "outputs": [],
   "source": [
    "def up(x,y):\n",
    "    y-= 10\n",
    "    return x,y\n",
    "    \n",
    "def down(x,y):\n",
    "    y+= 10\n",
    "    return x,y\n",
    "\n",
    "def left(x,y):\n",
    "    x -= 10\n",
    "    return x,y\n",
    "\n",
    "def right(x,y):\n",
    "    x += 10\n",
    "    return x,y\n",
    "\n",
    "def upright(x,y):\n",
    "    x += 10\n",
    "    y -= 10\n",
    "    return x,y\n",
    "\n",
    "def upleft(x,y):\n",
    "    x -= 10\n",
    "    y -= 10\n",
    "    return x,y\n",
    "\n",
    "def downright(x,y):\n",
    "    x += 10\n",
    "    y += 10\n",
    "    return x,y\n",
    "\n",
    "def downleft(x,y):\n",
    "    x -= 10\n",
    "    y += 10\n",
    "    return x,y"
   ]
  },
  {
   "cell_type": "code",
   "execution_count": 71,
   "metadata": {},
   "outputs": [],
   "source": [
    "moves = (up,down,left,right,upright,upleft,downright,downleft)"
   ]
  },
  {
   "cell_type": "code",
   "execution_count": 72,
   "metadata": {},
   "outputs": [],
   "source": [
    "def move_array(move):\n",
    "    one = moves.index(move)\n",
    "    array = [0]*8\n",
    "    array[one] = 1\n",
    "    return array"
   ]
  },
  {
   "cell_type": "code",
   "execution_count": 140,
   "metadata": {},
   "outputs": [],
   "source": [
    "def move_indx(m):\n",
    "    return moves.index(m)"
   ]
  },
  {
   "cell_type": "code",
   "execution_count": 142,
   "metadata": {},
   "outputs": [],
   "source": [
    "def move_reverser(m):\n",
    "    if m == up:\n",
    "        return down\n",
    "    if m == down:\n",
    "        return up\n",
    "    if m == left:\n",
    "        return right\n",
    "    if m == right:\n",
    "        return left\n",
    "    if m == upleft:\n",
    "        return downright\n",
    "    if m == downright:\n",
    "        return upleft\n",
    "    if m == upright:\n",
    "        return downleft\n",
    "    if m == downleft:\n",
    "        return upright"
   ]
  },
  {
   "cell_type": "code",
   "execution_count": null,
   "metadata": {},
   "outputs": [],
   "source": [
    "objective = nn.CrossEntropyLoss()\n",
    "optimizer1 = optim.Adam(params=net1.parameters(), lr=0.01)"
   ]
  },
  {
   "cell_type": "code",
   "execution_count": 166,
   "metadata": {},
   "outputs": [
    {
     "name": "stdout",
     "output_type": "stream",
     "text": [
      "Episode No.  0\n",
      "Red ball won!!!\n",
      "Episode No.  1\n",
      "Tie\n",
      "Episode No.  2\n",
      "Red ball won!!!\n",
      "Episode No.  3\n",
      "Red ball won!!!\n",
      "Episode No.  4\n",
      "Black ball won!!!\n",
      "Episode No.  5\n",
      "Red ball won!!!\n",
      "Episode No.  6\n",
      "Tie\n",
      "Episode No.  7\n",
      "Tie\n",
      "Episode No.  8\n"
     ]
    },
    {
     "ename": "KeyboardInterrupt",
     "evalue": "",
     "output_type": "error",
     "traceback": [
      "\u001b[1;31m---------------------------------------------------------------------------\u001b[0m",
      "\u001b[1;31mKeyboardInterrupt\u001b[0m                         Traceback (most recent call last)",
      "\u001b[1;32m<ipython-input-166-9daf4dd440eb>\u001b[0m in \u001b[0;36m<module>\u001b[1;34m()\u001b[0m\n\u001b[0;32m     61\u001b[0m         \u001b[1;32mfor\u001b[0m \u001b[0mi\u001b[0m \u001b[1;32min\u001b[0m \u001b[0mrange\u001b[0m\u001b[1;33m(\u001b[0m\u001b[1;36m200\u001b[0m\u001b[1;33m)\u001b[0m\u001b[1;33m:\u001b[0m\u001b[1;33m\u001b[0m\u001b[0m\n\u001b[0;32m     62\u001b[0m             \u001b[1;32mfor\u001b[0m \u001b[0mj\u001b[0m \u001b[1;32min\u001b[0m \u001b[0mrange\u001b[0m\u001b[1;33m(\u001b[0m\u001b[1;36m200\u001b[0m\u001b[1;33m)\u001b[0m\u001b[1;33m:\u001b[0m\u001b[1;33m\u001b[0m\u001b[0m\n\u001b[1;32m---> 63\u001b[1;33m                 \u001b[0mu\u001b[0m\u001b[1;33m.\u001b[0m\u001b[0mappend\u001b[0m\u001b[1;33m(\u001b[0m\u001b[0mwin\u001b[0m\u001b[1;33m.\u001b[0m\u001b[0mget_at\u001b[0m\u001b[1;33m(\u001b[0m\u001b[1;33m(\u001b[0m\u001b[0mi\u001b[0m\u001b[1;33m,\u001b[0m\u001b[0mj\u001b[0m\u001b[1;33m)\u001b[0m\u001b[1;33m)\u001b[0m\u001b[1;33m)\u001b[0m\u001b[1;33m\u001b[0m\u001b[0m\n\u001b[0m\u001b[0;32m     64\u001b[0m \u001b[1;33m\u001b[0m\u001b[0m\n\u001b[0;32m     65\u001b[0m         \u001b[0mblacks\u001b[0m \u001b[1;33m=\u001b[0m \u001b[0mu\u001b[0m\u001b[1;33m.\u001b[0m\u001b[0mcount\u001b[0m\u001b[1;33m(\u001b[0m\u001b[1;33m(\u001b[0m\u001b[1;36m0\u001b[0m\u001b[1;33m,\u001b[0m \u001b[1;36m0\u001b[0m\u001b[1;33m,\u001b[0m \u001b[1;36m0\u001b[0m\u001b[1;33m,\u001b[0m \u001b[1;36m255\u001b[0m\u001b[1;33m)\u001b[0m\u001b[1;33m)\u001b[0m\u001b[1;33m\u001b[0m\u001b[0m\n",
      "\u001b[1;31mKeyboardInterrupt\u001b[0m: "
     ]
    }
   ],
   "source": [
    "Winners = []\n",
    "episodes_batch = []\n",
    "episodes_memory = [[],[]]\n",
    "for z in range(100000):\n",
    "    print(\"Episode No. \", z)\n",
    "    red_moves = []\n",
    "    black_moves = []\n",
    "    states = []\n",
    "    states_reversed = []\n",
    "    area = []\n",
    "    Won = \"\"\n",
    "    fps = pygame.time.Clock()\n",
    "    width = 200\n",
    "    height = 200\n",
    "    x = 180\n",
    "    y = 25\n",
    "    x_b = 25\n",
    "    y_b = 180\n",
    "\n",
    "    red = [255,0,0]\n",
    "    white = [255,255,255]\n",
    "    black = [0,0,0]\n",
    "    win = pygame.display.set_mode((width,height))\n",
    "    pygame.display.set_caption('First_world')\n",
    "    win.fill(white)\n",
    "    run = True\n",
    "    while run:\n",
    "        u = []\n",
    "    #    x,y = random.choice(moves)(x,y)\n",
    "    #    x_b,y_b = random.choice(moves)(x_b,y_b)\n",
    "        if x > width-20:\n",
    "            x=(width-20)\n",
    "        if x < 20:\n",
    "            x = (20)\n",
    "\n",
    "        if y > height-20:\n",
    "            y=(height-20)\n",
    "        if y < 20:\n",
    "            y = (20)\n",
    "\n",
    "        if x_b > width-20:\n",
    "            x_b=(width-20)\n",
    "        if x_b < 20:\n",
    "            x_b = (20)\n",
    "\n",
    "        if y_b > height-20:\n",
    "            y_b=(height-20)\n",
    "        if y_b < 20:\n",
    "            y_b = (20)\n",
    "\n",
    "\n",
    "\n",
    "        pygame.draw.circle(win,red,(x,y),10)\n",
    "        pygame.draw.circle(win,black,(x_b,y_b),10)\n",
    "    #    pygame.draw.circle(win,red,(x+dx,y+dy),20)\n",
    "\n",
    "        pygame.display.update()\n",
    "    #    win.fill(white)\n",
    "        fps.tick(60)\n",
    "\n",
    "        for i in range(200):\n",
    "            for j in range(200):\n",
    "                u.append(win.get_at((i,j)))\n",
    "\n",
    "        blacks = u.count((0, 0, 0, 255))\n",
    "        reds = u.count((255, 0, 0, 255))\n",
    "\n",
    "        area.append((blacks,reds))\n",
    "\n",
    "        im_win = pygame.PixelArray(win)\n",
    "        im_red = im_win.extract(pygame.Color(255, 0, 0, 255))\n",
    "        im_red = np.array(im_red)/pixell_array\n",
    "        im_black = im_win.extract(pygame.Color(0, 0, 0, 255))\n",
    "        im_black = np.array(im_black)/pixell_array\n",
    "\n",
    "        batch = torch.Tensor([im_red,im_black])\n",
    "        batch= batch.view(-1,2,200,200)\n",
    "        states.append(batch)\n",
    "        move_probs1 = sm(net1(torch.FloatTensor(batch))).tolist()[0]\n",
    "\n",
    "        probs1 = np.array(move_probs1)\n",
    "        move1 = np.random.choice(moves,p=probs1/sum(probs1))\n",
    "        red_moves.append(move1)\n",
    "        x,y = move1(x,y)\n",
    "\n",
    "\n",
    "        move_probs2 = sm(net2(torch.FloatTensor(batch))).tolist()[0]\n",
    "\n",
    "        probs2 = np.array(move_probs2)\n",
    "        move2 = np.random.choice(moves,p=probs2/sum(probs2))\n",
    "        black_moves.append(move2)\n",
    "        x_b,y_b = move2(x_b,y_b)\n",
    "\n",
    "\n",
    "        if (area[-1][0]/sum(area[-1]) > 0.7) | (area[-1][1]/sum(area[-1]) > 0.7) :\n",
    "            if (area[-1][0]/sum(area[-1]) > 0.7):\n",
    "                print('Black ball won!!!')\n",
    "                Won = 'Black'\n",
    "                Winners.append(Won)\n",
    "                run = False\n",
    "            if (area[-1][1]/sum(area[-1]) > 0.7):\n",
    "                print('Red ball won!!!')\n",
    "                Won = 'Red'\n",
    "                Winners.append(Won)\n",
    "                run = False\n",
    "\n",
    "    #    pygame.time.delay(20)\n",
    "        for event in pygame.event.get():\n",
    "            if event.type == pygame.QUIT:\n",
    "                run = False\n",
    "                \n",
    "        if len(states) > 250:\n",
    "            print(\"Tie\")\n",
    "            Won = \"Tie\"\n",
    "            Winners.append(Won)\n",
    "            run = False\n",
    "\n",
    "    pygame.quit()\n",
    "    if Won == 'Red':\n",
    "        red_moves_array = list(map(move_indx,red_moves))\n",
    "    #    black_moves_array = list(map(move_indx,black_moves))\n",
    "        episodes_memory[0].extend([states])\n",
    "        episodes_memory[1].extend([red_moves_array])\n",
    "        if len(episodes_memory[0]) > 20000:\n",
    "            del episodes_memory[0][:len(states)]\n",
    "            del episodes_memory[1][:len(red_moves_array)]\n",
    "    if len(episodes_memory[0]) > 5000:\n",
    "        buff = random.sample(list(zip(episodes_memory[0],episodes_memory[1])),100)\n",
    "        for i,j in buff:\n",
    "            episodes_batch[0].append(i)\n",
    "            episodes_batch[1].append(j)\n",
    "        print(\"Training Red Ball!!!\")\n",
    "        train1 = []\n",
    "        for i in episodes_batch[0]:\n",
    "            move_probs = sm(net1(torch.FloatTensor(i))).tolist()[0]\n",
    "            train1.append(move_probs)\n",
    "        batch_size = len(episodes_batch[1])\n",
    "        loss_v = objective(variable(torch.FloatTensor(train1), requires_grad=True).view(-1,8,batch_size),torch.LongTensor([episodes_batch[1]]))\n",
    "        print(\"Loss is \",loss_v)\n",
    "        optimizer1.zero_grad()\n",
    "        loss_v.backward()\n",
    "        optimizer1.step()\n",
    "       \n",
    "\n",
    "    if Won == 'Black':\n",
    "        black_moves_reversed = list(map(move_reverser,black_moves))\n",
    "        black_moves_array_reversed = list(map(move_indx,black_moves_reversed))\n",
    "        for i in states:\n",
    "            im_black_reversed = np.rot90(np.rot90(i.view(2,200,200)[0]))\n",
    "            im_red_reversed = np.rot90(np.rot90(i.view(2,200,200)[1]))\n",
    "            batch_reversed = torch.Tensor([im_red_reversed,im_black_reversed])\n",
    "            batch_reversed.view(-1,2,200,200)\n",
    "            states_reversed.append(batch_reversed)\n",
    "            \n",
    "        episodes_memory[0].extend([states_reversed])\n",
    "        episodes_memory[1].extend([black_moves_array_reversed])\n",
    "        if len(episodes_memory[0]) > 20000:\n",
    "            del episodes_memory[0][:len(states_reversed)]\n",
    "            del episodes_memory[1][:len(black_moves_array_reversed)]\n",
    "            \n",
    "        if len(episodes_memory[0]) > 5000:\n",
    "            buff = random.sample(list(zip(episodes_memory[0],episodes_memory[1])),100)\n",
    "            for i,j in buff:\n",
    "                episodes_batch[0].append(i)\n",
    "                episodes_batch[1].append(j)\n",
    "            print(\"Training Red Ball!!!\")\n",
    "            train1 = []\n",
    "            for i in episodes_batch[0]:\n",
    "                move_probs = sm(net1(torch.FloatTensor(i))).tolist()[0]\n",
    "                train1.append(move_probs)\n",
    "            batch_size = len(episodes_batch[1])\n",
    "            loss_v = objective(variable(torch.FloatTensor(train1), requires_grad=True).view(-1,8,batch_size),torch.LongTensor([episodes_batch[1]]))\n",
    "            print(\"Loss is \",loss_v)\n",
    "            optimizer1.zero_grad()\n",
    "            loss_v.backward()\n",
    "            optimizer1.step()"
   ]
  },
  {
   "cell_type": "code",
   "execution_count": null,
   "metadata": {},
   "outputs": [],
   "source": []
  },
  {
   "cell_type": "code",
   "execution_count": 165,
   "metadata": {},
   "outputs": [],
   "source": [
    "pygame.quit()"
   ]
  },
  {
   "cell_type": "code",
   "execution_count": 14,
   "metadata": {},
   "outputs": [],
   "source": [
    "def win_stats():\n",
    "    length = len(Winners)\n",
    "    reds = Winners.count('Red')\n",
    "    blacks = Winners.count('Black')\n",
    "    ties = Winners.count('Tie')\n",
    "    print(\"Total Episodes palyed: {0}, Reds Won: {1}, Blacks Won: {2}, Ties: {3}\".format(length,reds,blacks,ties))"
   ]
  },
  {
   "cell_type": "code",
   "execution_count": 15,
   "metadata": {},
   "outputs": [
    {
     "name": "stdout",
     "output_type": "stream",
     "text": [
      "Total Episodes palyed: 23, Reds Won: 2, Blacks Won: 11, Ties: 10\n"
     ]
    }
   ],
   "source": [
    "win_stats()"
   ]
  },
  {
   "cell_type": "code",
   "execution_count": null,
   "metadata": {},
   "outputs": [],
   "source": [
    "#loss = (torch.sum(torch.mul(torch.log_softmax(net1(batch),dim = 1).view(-1,8,11), variable(discounted_rewards)).mul(-1), -1))"
   ]
  },
  {
   "cell_type": "code",
   "execution_count": 2,
   "metadata": {},
   "outputs": [],
   "source": [
    "import numpy as np"
   ]
  },
  {
   "cell_type": "code",
   "execution_count": 54,
   "metadata": {},
   "outputs": [
    {
     "name": "stderr",
     "output_type": "stream",
     "text": [
      "C:\\ProgramData\\Anaconda3\\lib\\site-packages\\ipykernel_launcher.py:1: DeprecationWarning: This function is deprecated. Please call randint(1, 93 + 1) instead\n",
      "  \"\"\"Entry point for launching an IPython kernel.\n"
     ]
    }
   ],
   "source": [
    "r = np.random.random_integers(93,size=(5,5))"
   ]
  },
  {
   "cell_type": "code",
   "execution_count": 137,
   "metadata": {},
   "outputs": [],
   "source": [
    "im_black_sw = np.rot90(np.rot90(im_black))"
   ]
  },
  {
   "cell_type": "code",
   "execution_count": 158,
   "metadata": {},
   "outputs": [
    {
     "data": {
      "text/plain": [
       "tensor(1.)"
      ]
     },
     "execution_count": 158,
     "metadata": {},
     "output_type": "execute_result"
    }
   ],
   "source": [
    "states[0].view(2,200,200)"
   ]
  },
  {
   "cell_type": "code",
   "execution_count": 162,
   "metadata": {},
   "outputs": [],
   "source": [
    "for i in states:\n",
    "    im_black_reversed = np.rot90(np.rot90(i.view(2,200,200)[0]))\n",
    "    im_red_reversed = np.rot90(np.rot90(i.view(2,200,200)[1]))\n",
    "    batch_reversed = torch.Tensor([im_red_reversed,im_black_reversed])\n",
    "    batch_reversed.view(-1,2,200,200)\n",
    "    states_reversed.append(batch_reversed)"
   ]
  },
  {
   "cell_type": "code",
   "execution_count": 163,
   "metadata": {},
   "outputs": [
    {
     "data": {
      "text/plain": [
       "1.0"
      ]
     },
     "execution_count": 163,
     "metadata": {},
     "output_type": "execute_result"
    }
   ],
   "source": [
    "im_red_reversed[0][175,25]"
   ]
  },
  {
   "cell_type": "code",
   "execution_count": null,
   "metadata": {},
   "outputs": [],
   "source": [
    "batch = torch.Tensor([im_red,im_black])\n",
    "batch= batch.view(-1,2,200,200)\n",
    "states.append(batch)"
   ]
  }
 ],
 "metadata": {
  "kernelspec": {
   "display_name": "Python 3",
   "language": "python",
   "name": "python3"
  },
  "language_info": {
   "codemirror_mode": {
    "name": "ipython",
    "version": 3
   },
   "file_extension": ".py",
   "mimetype": "text/x-python",
   "name": "python",
   "nbconvert_exporter": "python",
   "pygments_lexer": "ipython3",
   "version": "3.6.1"
  }
 },
 "nbformat": 4,
 "nbformat_minor": 2
}
